{
  "nbformat": 4,
  "nbformat_minor": 0,
  "metadata": {
    "colab": {
      "provenance": [],
      "authorship_tag": "ABX9TyPU835hr1nN6mpmw21gmWJh",
      "include_colab_link": true
    },
    "kernelspec": {
      "name": "python3",
      "display_name": "Python 3"
    },
    "language_info": {
      "name": "python"
    }
  },
  "cells": [
    {
      "cell_type": "markdown",
      "metadata": {
        "id": "view-in-github",
        "colab_type": "text"
      },
      "source": [
        "<a href=\"https://colab.research.google.com/github/arikinhafln/data-analytics-activities/blob/main/Exerc%C3%ADcio_Banco_de_dados.ipynb\" target=\"_parent\"><img src=\"https://colab.research.google.com/assets/colab-badge.svg\" alt=\"Open In Colab\"/></a>"
      ]
    },
    {
      "cell_type": "code",
      "execution_count": 4,
      "metadata": {
        "id": "fSA5MELN8LU5"
      },
      "outputs": [],
      "source": [
        "import sqlite3\n"
      ]
    },
    {
      "cell_type": "code",
      "source": [
        " # 1. Criar Tabela \"alunos\"\n",
        "\n",
        " CREATE TABLE alunos (\n",
        "    id INT PRIMARY KEY,\n",
        "    nome TEXT,\n",
        "    idade INT,\n",
        "    curso TEXT\n",
        ");"
      ],
      "metadata": {
        "id": "cVTG75ZK8kZy"
      },
      "execution_count": null,
      "outputs": []
    },
    {
      "cell_type": "code",
      "source": [
        "# 2. Inserir Registros na Tabela \"alunos\"\n",
        "\n",
        "INSERT INTO alunos (id, nome, idade, curso) VALUES (1, 'João Silva', 22, 'Engenharia');\n",
        "INSERT INTO alunos (id, nome, idade, curso) VALUES (2, 'Maria Santos', 19, 'Medicina');\n",
        "INSERT INTO alunos (id, nome, idade, curso) VALUES (3, 'Carlos Oliveira', 25, 'Engenharia');\n",
        "INSERT INTO alunos (id, nome, idade, curso) VALUES (4, 'Ana Costa', 21, 'Direito');\n",
        "INSERT INTO alunos (id, nome, idade, curso) VALUES (5, 'Pedro Souza', 20, 'Engenharia');\n"
      ],
      "metadata": {
        "colab": {
          "base_uri": "https://localhost:8080/",
          "height": 110
        },
        "id": "tOr_e1J68rlY",
        "outputId": "9dd8df01-953f-4792-ab50-573fc8da6bbc"
      },
      "execution_count": 5,
      "outputs": [
        {
          "output_type": "error",
          "ename": "SyntaxError",
          "evalue": "invalid syntax (<ipython-input-5-a14fe9eeacfe>, line 3)",
          "traceback": [
            "\u001b[0;36m  File \u001b[0;32m\"<ipython-input-5-a14fe9eeacfe>\"\u001b[0;36m, line \u001b[0;32m3\u001b[0m\n\u001b[0;31m    INSERT INTO alunos (id, nome, idade, curso) VALUES (1, 'João Silva', 22, 'Engenharia');\u001b[0m\n\u001b[0m           ^\u001b[0m\n\u001b[0;31mSyntaxError\u001b[0m\u001b[0;31m:\u001b[0m invalid syntax\n"
          ]
        }
      ]
    },
    {
      "cell_type": "code",
      "source": [
        "# 3. Consultas Básicas\n",
        "# a) Selecionar todos os registros da tabela \"alunos\":\n",
        "SELECT * FROM alunos;\n",
        "\n",
        "# b) Selecionar o nome e a idade dos alunos com mais de 20 anos:\n",
        "SELECT nome, idade FROM alunos WHERE idade > 20;\n",
        "\n",
        "# c) Selecionar os alunos do curso de \"Engenharia\" em ordem alfabética:\n",
        "SELECT nome FROM alunos WHERE curso = 'Engenharia' ORDER BY nome ASC;\n",
        "\n",
        "# d) Contar o número total de alunos na tabela:\n",
        "SELECT COUNT(*) FROM alunos;\n"
      ],
      "metadata": {
        "id": "E8TJK6FK88UL"
      },
      "execution_count": null,
      "outputs": []
    },
    {
      "cell_type": "code",
      "source": [
        "# 4. Atualização e Remoção\n",
        "# a) Atualizar a idade de um aluno específico na tabela:\n",
        "UPDATE alunos SET idade = 23 WHERE id = 1;\n",
        "\n",
        "# b) Remover um aluno pelo seu ID:\n",
        "DELETE FROM alunos WHERE id = 5;\n"
      ],
      "metadata": {
        "id": "2zCW0gvA9S6M"
      },
      "execution_count": null,
      "outputs": []
    },
    {
      "cell_type": "code",
      "source": [
        "# 5. Criar Tabela \"clientes\" e Inserir Dados\n",
        "CREATE TABLE clientes (\n",
        "    id INT PRIMARY KEY,\n",
        "    nome TEXT,\n",
        "    idade INT,\n",
        "    saldo FLOAT\n",
        ");\n",
        "\n",
        "INSERT INTO clientes (id, nome, idade, saldo) VALUES (1, 'Lucas Lima', 35, 2500.50);\n",
        "INSERT INTO clientes (id, nome, idade, saldo) VALUES (2, 'Fernanda Alves', 28, 1500.00);\n",
        "INSERT INTO clientes (id, nome, idade, saldo) VALUES (3, 'Ricardo Borges', 42, 3200.75);\n",
        "INSERT INTO clientes (id, nome, idade, saldo) VALUES (4, 'Camila Ferreira', 30, 980.00);\n",
        "INSERT INTO clientes (id, nome, idade, saldo) VALUES (5, 'Gabriel Costa', 25, 750.20);\n"
      ],
      "metadata": {
        "id": "Z9UB6RwR9akm"
      },
      "execution_count": null,
      "outputs": []
    },
    {
      "cell_type": "code",
      "source": [
        "# 6. Consultas e Funções Agregadas\n",
        "# a) Selecione o nome e a idade dos clientes com idade superior a 30 anos:\n",
        "SELECT nome, idade FROM clientes WHERE idade > 30;\n",
        "\n",
        "# b) Calcule o saldo médio dos clientes:\n",
        "SELECT AVG(saldo) FROM clientes;\n",
        "\n",
        "# c) Encontre o cliente com o saldo máximo:\n",
        "SELECT nome, saldo FROM clientes WHERE saldo = (SELECT MAX(saldo) FROM clientes);\n",
        "\n",
        "# d) Conte quantos clientes têm saldo acima de 1000:\n",
        "SELECT COUNT(*) FROM clientes WHERE saldo > 1000;\n"
      ],
      "metadata": {
        "id": "gBcioAiZ9biN"
      },
      "execution_count": null,
      "outputs": []
    },
    {
      "cell_type": "code",
      "source": [
        "# 7. Atualização e Remoção com Condições\n",
        "# a) Atualizar o saldo de um cliente específico:\n",
        "UPDATE clientes SET saldo = 3000.00 WHERE id = 2;\n",
        "\n",
        "# b) Remover um cliente pelo seu ID:\n",
        "DELETE FROM clientes WHERE id = 5;"
      ],
      "metadata": {
        "id": "FW9bOMrX9rEr"
      },
      "execution_count": null,
      "outputs": []
    },
    {
      "cell_type": "code",
      "source": [
        "# 8. Junção de Tabelas\n",
        "# a) Crie a tabela \"compras\" e insira dados:\n",
        "CREATE TABLE compras (\n",
        "    id INT PRIMARY KEY,\n",
        "    cliente_id INT,\n",
        "    produto TEXT,\n",
        "    valor FLOAT,\n",
        "    FOREIGN KEY (cliente_id) REFERENCES clientes(id)\n",
        ");\n",
        "\n",
        "INSERT INTO compras (id, cliente_id, produto, valor) VALUES (1, 1, 'Notebook', 2000.00);\n",
        "INSERT INTO compras (id, cliente_id, produto, valor) VALUES (2, 2, 'Smartphone', 1500.00);\n",
        "INSERT INTO compras (id, cliente_id, produto, valor) VALUES (3, 3, 'Tablet', 800.00);\n",
        "INSERT INTO compras (id, cliente_id, produto, valor) VALUES (4, 4, 'Monitor', 500.00);\n",
        "INSERT INTO compras (id, cliente_id, produto, valor) VALUES (5, 1, 'Teclado', 150.00);\n",
        "\n",
        "# b) Escreva uma consulta para exibir o nome do cliente, o produto e o valor de cada compra:\n",
        "SELECT clientes.nome, compras.produto, compras.valor\n",
        "FROM compras\n",
        "JOIN clientes ON compras.cliente_id = clientes.id;\n"
      ],
      "metadata": {
        "id": "89p6Sdit9u-C"
      },
      "execution_count": null,
      "outputs": []
    }
  ]
}