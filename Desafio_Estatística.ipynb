{
  "nbformat": 4,
  "nbformat_minor": 0,
  "metadata": {
    "colab": {
      "provenance": [],
      "authorship_tag": "ABX9TyNAtBOx4+r3qyxYrRjhFglp",
      "include_colab_link": true
    },
    "kernelspec": {
      "name": "python3",
      "display_name": "Python 3"
    },
    "language_info": {
      "name": "python"
    }
  },
  "cells": [
    {
      "cell_type": "markdown",
      "metadata": {
        "id": "view-in-github",
        "colab_type": "text"
      },
      "source": [
        "<a href=\"https://colab.research.google.com/github/arikinhafln/data-analytics-activities/blob/main/Desafio_Estat%C3%ADstica.ipynb\" target=\"_parent\"><img src=\"https://colab.research.google.com/assets/colab-badge.svg\" alt=\"Open In Colab\"/></a>"
      ]
    },
    {
      "cell_type": "code",
      "execution_count": null,
      "metadata": {
        "id": "6Qk8ANcKC0Pl"
      },
      "outputs": [],
      "source": [
        "import pandas as pd\n",
        "import numpy as np\n",
        "import json\n",
        "import matplotlib.pyplot as plt\n",
        "import seaborn as sns\n",
        "\n",
        "# Carregar os dados do arquivo JSON\n",
        "df = pd.read_json('/content/enem_2023.json')"
      ]
    },
    {
      "cell_type": "code",
      "source": [
        "# 1. Qual das disciplinas tem a maior amplitude de nota?\n",
        "df.describe()"
      ],
      "metadata": {
        "colab": {
          "base_uri": "https://localhost:8080/",
          "height": 300
        },
        "id": "ZZbC7dXmAuIV",
        "outputId": "ce121fb1-82f7-45b5-f9cd-2689771a3db4"
      },
      "execution_count": null,
      "outputs": [
        {
          "output_type": "execute_result",
          "data": {
            "text/plain": [
              "       Linguagens  Ciências humanas  Ciências da natureza  Matemática  \\\n",
              "count  897.000000        936.000000            824.000000  924.000000   \n",
              "mean   514.524809        527.042281            499.315583  535.965660   \n",
              "std     84.009313         77.811519             78.760404   86.648100   \n",
              "min    287.000000        289.900000            314.400000  319.800000   \n",
              "25%    458.360558        475.424546            444.709076  479.172971   \n",
              "50%    515.045250        524.519920            500.479263  533.247767   \n",
              "75%    571.635876        581.401952            548.751678  592.912963   \n",
              "max    804.456317        763.919695            802.004568  807.877902   \n",
              "\n",
              "           Redação  \n",
              "count   860.000000  \n",
              "mean    637.783532  \n",
              "std     115.339972  \n",
              "min     270.839965  \n",
              "25%     556.468366  \n",
              "50%     635.273973  \n",
              "75%     715.989868  \n",
              "max    1000.000000  "
            ],
            "text/html": [
              "\n",
              "  <div id=\"df-3fcd9f0c-92e1-400c-a171-d01810085ed5\" class=\"colab-df-container\">\n",
              "    <div>\n",
              "<style scoped>\n",
              "    .dataframe tbody tr th:only-of-type {\n",
              "        vertical-align: middle;\n",
              "    }\n",
              "\n",
              "    .dataframe tbody tr th {\n",
              "        vertical-align: top;\n",
              "    }\n",
              "\n",
              "    .dataframe thead th {\n",
              "        text-align: right;\n",
              "    }\n",
              "</style>\n",
              "<table border=\"1\" class=\"dataframe\">\n",
              "  <thead>\n",
              "    <tr style=\"text-align: right;\">\n",
              "      <th></th>\n",
              "      <th>Linguagens</th>\n",
              "      <th>Ciências humanas</th>\n",
              "      <th>Ciências da natureza</th>\n",
              "      <th>Matemática</th>\n",
              "      <th>Redação</th>\n",
              "    </tr>\n",
              "  </thead>\n",
              "  <tbody>\n",
              "    <tr>\n",
              "      <th>count</th>\n",
              "      <td>897.000000</td>\n",
              "      <td>936.000000</td>\n",
              "      <td>824.000000</td>\n",
              "      <td>924.000000</td>\n",
              "      <td>860.000000</td>\n",
              "    </tr>\n",
              "    <tr>\n",
              "      <th>mean</th>\n",
              "      <td>514.524809</td>\n",
              "      <td>527.042281</td>\n",
              "      <td>499.315583</td>\n",
              "      <td>535.965660</td>\n",
              "      <td>637.783532</td>\n",
              "    </tr>\n",
              "    <tr>\n",
              "      <th>std</th>\n",
              "      <td>84.009313</td>\n",
              "      <td>77.811519</td>\n",
              "      <td>78.760404</td>\n",
              "      <td>86.648100</td>\n",
              "      <td>115.339972</td>\n",
              "    </tr>\n",
              "    <tr>\n",
              "      <th>min</th>\n",
              "      <td>287.000000</td>\n",
              "      <td>289.900000</td>\n",
              "      <td>314.400000</td>\n",
              "      <td>319.800000</td>\n",
              "      <td>270.839965</td>\n",
              "    </tr>\n",
              "    <tr>\n",
              "      <th>25%</th>\n",
              "      <td>458.360558</td>\n",
              "      <td>475.424546</td>\n",
              "      <td>444.709076</td>\n",
              "      <td>479.172971</td>\n",
              "      <td>556.468366</td>\n",
              "    </tr>\n",
              "    <tr>\n",
              "      <th>50%</th>\n",
              "      <td>515.045250</td>\n",
              "      <td>524.519920</td>\n",
              "      <td>500.479263</td>\n",
              "      <td>533.247767</td>\n",
              "      <td>635.273973</td>\n",
              "    </tr>\n",
              "    <tr>\n",
              "      <th>75%</th>\n",
              "      <td>571.635876</td>\n",
              "      <td>581.401952</td>\n",
              "      <td>548.751678</td>\n",
              "      <td>592.912963</td>\n",
              "      <td>715.989868</td>\n",
              "    </tr>\n",
              "    <tr>\n",
              "      <th>max</th>\n",
              "      <td>804.456317</td>\n",
              "      <td>763.919695</td>\n",
              "      <td>802.004568</td>\n",
              "      <td>807.877902</td>\n",
              "      <td>1000.000000</td>\n",
              "    </tr>\n",
              "  </tbody>\n",
              "</table>\n",
              "</div>\n",
              "    <div class=\"colab-df-buttons\">\n",
              "\n",
              "  <div class=\"colab-df-container\">\n",
              "    <button class=\"colab-df-convert\" onclick=\"convertToInteractive('df-3fcd9f0c-92e1-400c-a171-d01810085ed5')\"\n",
              "            title=\"Convert this dataframe to an interactive table.\"\n",
              "            style=\"display:none;\">\n",
              "\n",
              "  <svg xmlns=\"http://www.w3.org/2000/svg\" height=\"24px\" viewBox=\"0 -960 960 960\">\n",
              "    <path d=\"M120-120v-720h720v720H120Zm60-500h600v-160H180v160Zm220 220h160v-160H400v160Zm0 220h160v-160H400v160ZM180-400h160v-160H180v160Zm440 0h160v-160H620v160ZM180-180h160v-160H180v160Zm440 0h160v-160H620v160Z\"/>\n",
              "  </svg>\n",
              "    </button>\n",
              "\n",
              "  <style>\n",
              "    .colab-df-container {\n",
              "      display:flex;\n",
              "      gap: 12px;\n",
              "    }\n",
              "\n",
              "    .colab-df-convert {\n",
              "      background-color: #E8F0FE;\n",
              "      border: none;\n",
              "      border-radius: 50%;\n",
              "      cursor: pointer;\n",
              "      display: none;\n",
              "      fill: #1967D2;\n",
              "      height: 32px;\n",
              "      padding: 0 0 0 0;\n",
              "      width: 32px;\n",
              "    }\n",
              "\n",
              "    .colab-df-convert:hover {\n",
              "      background-color: #E2EBFA;\n",
              "      box-shadow: 0px 1px 2px rgba(60, 64, 67, 0.3), 0px 1px 3px 1px rgba(60, 64, 67, 0.15);\n",
              "      fill: #174EA6;\n",
              "    }\n",
              "\n",
              "    .colab-df-buttons div {\n",
              "      margin-bottom: 4px;\n",
              "    }\n",
              "\n",
              "    [theme=dark] .colab-df-convert {\n",
              "      background-color: #3B4455;\n",
              "      fill: #D2E3FC;\n",
              "    }\n",
              "\n",
              "    [theme=dark] .colab-df-convert:hover {\n",
              "      background-color: #434B5C;\n",
              "      box-shadow: 0px 1px 3px 1px rgba(0, 0, 0, 0.15);\n",
              "      filter: drop-shadow(0px 1px 2px rgba(0, 0, 0, 0.3));\n",
              "      fill: #FFFFFF;\n",
              "    }\n",
              "  </style>\n",
              "\n",
              "    <script>\n",
              "      const buttonEl =\n",
              "        document.querySelector('#df-3fcd9f0c-92e1-400c-a171-d01810085ed5 button.colab-df-convert');\n",
              "      buttonEl.style.display =\n",
              "        google.colab.kernel.accessAllowed ? 'block' : 'none';\n",
              "\n",
              "      async function convertToInteractive(key) {\n",
              "        const element = document.querySelector('#df-3fcd9f0c-92e1-400c-a171-d01810085ed5');\n",
              "        const dataTable =\n",
              "          await google.colab.kernel.invokeFunction('convertToInteractive',\n",
              "                                                    [key], {});\n",
              "        if (!dataTable) return;\n",
              "\n",
              "        const docLinkHtml = 'Like what you see? Visit the ' +\n",
              "          '<a target=\"_blank\" href=https://colab.research.google.com/notebooks/data_table.ipynb>data table notebook</a>'\n",
              "          + ' to learn more about interactive tables.';\n",
              "        element.innerHTML = '';\n",
              "        dataTable['output_type'] = 'display_data';\n",
              "        await google.colab.output.renderOutput(dataTable, element);\n",
              "        const docLink = document.createElement('div');\n",
              "        docLink.innerHTML = docLinkHtml;\n",
              "        element.appendChild(docLink);\n",
              "      }\n",
              "    </script>\n",
              "  </div>\n",
              "\n",
              "\n",
              "<div id=\"df-da972351-d220-4673-8731-0294dc755148\">\n",
              "  <button class=\"colab-df-quickchart\" onclick=\"quickchart('df-da972351-d220-4673-8731-0294dc755148')\"\n",
              "            title=\"Suggest charts\"\n",
              "            style=\"display:none;\">\n",
              "\n",
              "<svg xmlns=\"http://www.w3.org/2000/svg\" height=\"24px\"viewBox=\"0 0 24 24\"\n",
              "     width=\"24px\">\n",
              "    <g>\n",
              "        <path d=\"M19 3H5c-1.1 0-2 .9-2 2v14c0 1.1.9 2 2 2h14c1.1 0 2-.9 2-2V5c0-1.1-.9-2-2-2zM9 17H7v-7h2v7zm4 0h-2V7h2v10zm4 0h-2v-4h2v4z\"/>\n",
              "    </g>\n",
              "</svg>\n",
              "  </button>\n",
              "\n",
              "<style>\n",
              "  .colab-df-quickchart {\n",
              "      --bg-color: #E8F0FE;\n",
              "      --fill-color: #1967D2;\n",
              "      --hover-bg-color: #E2EBFA;\n",
              "      --hover-fill-color: #174EA6;\n",
              "      --disabled-fill-color: #AAA;\n",
              "      --disabled-bg-color: #DDD;\n",
              "  }\n",
              "\n",
              "  [theme=dark] .colab-df-quickchart {\n",
              "      --bg-color: #3B4455;\n",
              "      --fill-color: #D2E3FC;\n",
              "      --hover-bg-color: #434B5C;\n",
              "      --hover-fill-color: #FFFFFF;\n",
              "      --disabled-bg-color: #3B4455;\n",
              "      --disabled-fill-color: #666;\n",
              "  }\n",
              "\n",
              "  .colab-df-quickchart {\n",
              "    background-color: var(--bg-color);\n",
              "    border: none;\n",
              "    border-radius: 50%;\n",
              "    cursor: pointer;\n",
              "    display: none;\n",
              "    fill: var(--fill-color);\n",
              "    height: 32px;\n",
              "    padding: 0;\n",
              "    width: 32px;\n",
              "  }\n",
              "\n",
              "  .colab-df-quickchart:hover {\n",
              "    background-color: var(--hover-bg-color);\n",
              "    box-shadow: 0 1px 2px rgba(60, 64, 67, 0.3), 0 1px 3px 1px rgba(60, 64, 67, 0.15);\n",
              "    fill: var(--button-hover-fill-color);\n",
              "  }\n",
              "\n",
              "  .colab-df-quickchart-complete:disabled,\n",
              "  .colab-df-quickchart-complete:disabled:hover {\n",
              "    background-color: var(--disabled-bg-color);\n",
              "    fill: var(--disabled-fill-color);\n",
              "    box-shadow: none;\n",
              "  }\n",
              "\n",
              "  .colab-df-spinner {\n",
              "    border: 2px solid var(--fill-color);\n",
              "    border-color: transparent;\n",
              "    border-bottom-color: var(--fill-color);\n",
              "    animation:\n",
              "      spin 1s steps(1) infinite;\n",
              "  }\n",
              "\n",
              "  @keyframes spin {\n",
              "    0% {\n",
              "      border-color: transparent;\n",
              "      border-bottom-color: var(--fill-color);\n",
              "      border-left-color: var(--fill-color);\n",
              "    }\n",
              "    20% {\n",
              "      border-color: transparent;\n",
              "      border-left-color: var(--fill-color);\n",
              "      border-top-color: var(--fill-color);\n",
              "    }\n",
              "    30% {\n",
              "      border-color: transparent;\n",
              "      border-left-color: var(--fill-color);\n",
              "      border-top-color: var(--fill-color);\n",
              "      border-right-color: var(--fill-color);\n",
              "    }\n",
              "    40% {\n",
              "      border-color: transparent;\n",
              "      border-right-color: var(--fill-color);\n",
              "      border-top-color: var(--fill-color);\n",
              "    }\n",
              "    60% {\n",
              "      border-color: transparent;\n",
              "      border-right-color: var(--fill-color);\n",
              "    }\n",
              "    80% {\n",
              "      border-color: transparent;\n",
              "      border-right-color: var(--fill-color);\n",
              "      border-bottom-color: var(--fill-color);\n",
              "    }\n",
              "    90% {\n",
              "      border-color: transparent;\n",
              "      border-bottom-color: var(--fill-color);\n",
              "    }\n",
              "  }\n",
              "</style>\n",
              "\n",
              "  <script>\n",
              "    async function quickchart(key) {\n",
              "      const quickchartButtonEl =\n",
              "        document.querySelector('#' + key + ' button');\n",
              "      quickchartButtonEl.disabled = true;  // To prevent multiple clicks.\n",
              "      quickchartButtonEl.classList.add('colab-df-spinner');\n",
              "      try {\n",
              "        const charts = await google.colab.kernel.invokeFunction(\n",
              "            'suggestCharts', [key], {});\n",
              "      } catch (error) {\n",
              "        console.error('Error during call to suggestCharts:', error);\n",
              "      }\n",
              "      quickchartButtonEl.classList.remove('colab-df-spinner');\n",
              "      quickchartButtonEl.classList.add('colab-df-quickchart-complete');\n",
              "    }\n",
              "    (() => {\n",
              "      let quickchartButtonEl =\n",
              "        document.querySelector('#df-da972351-d220-4673-8731-0294dc755148 button');\n",
              "      quickchartButtonEl.style.display =\n",
              "        google.colab.kernel.accessAllowed ? 'block' : 'none';\n",
              "    })();\n",
              "  </script>\n",
              "</div>\n",
              "\n",
              "    </div>\n",
              "  </div>\n"
            ],
            "application/vnd.google.colaboratory.intrinsic+json": {
              "type": "dataframe",
              "summary": "{\n  \"name\": \"df\",\n  \"rows\": 8,\n  \"fields\": [\n    {\n      \"column\": \"Linguagens\",\n      \"properties\": {\n        \"dtype\": \"number\",\n        \"std\": 260.1767838163819,\n        \"min\": 84.00931315971195,\n        \"max\": 897.0,\n        \"num_unique_values\": 8,\n        \"samples\": [\n          514.5248092106333,\n          515.0452497632,\n          897.0\n        ],\n        \"semantic_type\": \"\",\n        \"description\": \"\"\n      }\n    },\n    {\n      \"column\": \"Ci\\u00eancias humanas\",\n      \"properties\": {\n        \"dtype\": \"number\",\n        \"std\": 263.71645891458803,\n        \"min\": 77.81151916399475,\n        \"max\": 936.0,\n        \"num_unique_values\": 8,\n        \"samples\": [\n          527.0422808644046,\n          524.51992005745,\n          936.0\n        ],\n        \"semantic_type\": \"\",\n        \"description\": \"\"\n      }\n    },\n    {\n      \"column\": \"Ci\\u00eancias da natureza\",\n      \"properties\": {\n        \"dtype\": \"number\",\n        \"std\": 243.04266042185378,\n        \"min\": 78.76040369093829,\n        \"max\": 824.0,\n        \"num_unique_values\": 8,\n        \"samples\": [\n          499.3155828489798,\n          500.47926306565,\n          824.0\n        ],\n        \"semantic_type\": \"\",\n        \"description\": \"\"\n      }\n    },\n    {\n      \"column\": \"Matem\\u00e1tica\",\n      \"properties\": {\n        \"dtype\": \"number\",\n        \"std\": 261.7491627218222,\n        \"min\": 86.64810003261275,\n        \"max\": 924.0,\n        \"num_unique_values\": 8,\n        \"samples\": [\n          535.9656600928728,\n          533.2477669785001,\n          924.0\n        ],\n        \"semantic_type\": \"\",\n        \"description\": \"\"\n      }\n    },\n    {\n      \"column\": \"Reda\\u00e7\\u00e3o\",\n      \"properties\": {\n        \"dtype\": \"number\",\n        \"std\": 290.037818244487,\n        \"min\": 115.33997244479161,\n        \"max\": 1000.0,\n        \"num_unique_values\": 8,\n        \"samples\": [\n          637.7835320695872,\n          635.27397319435,\n          860.0\n        ],\n        \"semantic_type\": \"\",\n        \"description\": \"\"\n      }\n    }\n  ]\n}"
            }
          },
          "metadata": {},
          "execution_count": 4
        }
      ]
    },
    {
      "cell_type": "code",
      "source": [
        "# Calculando a amplitude de cada disciplina\n",
        "amplitude_por_disciplina = df.iloc[:, :5].max() - df.iloc[:, :5].min()\n",
        "amplitude_por_disciplina\n",
        "print(f\"A disciplina com a maior amplitude é {amplitude_por_disciplina.idxmax()}.\")"
      ],
      "metadata": {
        "colab": {
          "base_uri": "https://localhost:8080/"
        },
        "id": "X2MKWDBlosjx",
        "outputId": "02d31bb9-f7f5-4f62-82e9-5cba5b0824a5"
      },
      "execution_count": null,
      "outputs": [
        {
          "output_type": "stream",
          "name": "stdout",
          "text": [
            "A disciplina com a maior amplitude é Redação.\n"
          ]
        }
      ]
    },
    {
      "cell_type": "code",
      "source": [
        "# 2. Qual é a média e a mediana para cada uma das disciplinas?\n",
        "df.columns\n",
        "df[['Linguagens', 'Ciências humanas', 'Ciências da natureza', 'Matemática',\n",
        "       'Redação']].mean()"
      ],
      "metadata": {
        "id": "kjPDTng3DjuO",
        "colab": {
          "base_uri": "https://localhost:8080/",
          "height": 241
        },
        "outputId": "31258fbd-77e7-447c-9042-06fd0e29b0de"
      },
      "execution_count": null,
      "outputs": [
        {
          "output_type": "execute_result",
          "data": {
            "text/plain": [
              "Linguagens              514.524809\n",
              "Ciências humanas        527.042281\n",
              "Ciências da natureza    499.315583\n",
              "Matemática              535.965660\n",
              "Redação                 637.783532\n",
              "dtype: float64"
            ],
            "text/html": [
              "<div>\n",
              "<style scoped>\n",
              "    .dataframe tbody tr th:only-of-type {\n",
              "        vertical-align: middle;\n",
              "    }\n",
              "\n",
              "    .dataframe tbody tr th {\n",
              "        vertical-align: top;\n",
              "    }\n",
              "\n",
              "    .dataframe thead th {\n",
              "        text-align: right;\n",
              "    }\n",
              "</style>\n",
              "<table border=\"1\" class=\"dataframe\">\n",
              "  <thead>\n",
              "    <tr style=\"text-align: right;\">\n",
              "      <th></th>\n",
              "      <th>0</th>\n",
              "    </tr>\n",
              "  </thead>\n",
              "  <tbody>\n",
              "    <tr>\n",
              "      <th>Linguagens</th>\n",
              "      <td>514.524809</td>\n",
              "    </tr>\n",
              "    <tr>\n",
              "      <th>Ciências humanas</th>\n",
              "      <td>527.042281</td>\n",
              "    </tr>\n",
              "    <tr>\n",
              "      <th>Ciências da natureza</th>\n",
              "      <td>499.315583</td>\n",
              "    </tr>\n",
              "    <tr>\n",
              "      <th>Matemática</th>\n",
              "      <td>535.965660</td>\n",
              "    </tr>\n",
              "    <tr>\n",
              "      <th>Redação</th>\n",
              "      <td>637.783532</td>\n",
              "    </tr>\n",
              "  </tbody>\n",
              "</table>\n",
              "</div><br><label><b>dtype:</b> float64</label>"
            ]
          },
          "metadata": {},
          "execution_count": 3
        }
      ]
    },
    {
      "cell_type": "code",
      "source": [
        "# mediana\n",
        "df[['Linguagens', 'Ciências humanas', 'Ciências da natureza', 'Matemática',\n",
        "       'Redação']].median()"
      ],
      "metadata": {
        "colab": {
          "base_uri": "https://localhost:8080/",
          "height": 241
        },
        "id": "c54AxjZBMPZ-",
        "outputId": "7edd89a6-2346-4cfc-e72d-cbb48493a4b6"
      },
      "execution_count": null,
      "outputs": [
        {
          "output_type": "execute_result",
          "data": {
            "text/plain": [
              "Linguagens              515.045250\n",
              "Ciências humanas        524.519920\n",
              "Ciências da natureza    500.479263\n",
              "Matemática              533.247767\n",
              "Redação                 635.273973\n",
              "dtype: float64"
            ],
            "text/html": [
              "<div>\n",
              "<style scoped>\n",
              "    .dataframe tbody tr th:only-of-type {\n",
              "        vertical-align: middle;\n",
              "    }\n",
              "\n",
              "    .dataframe tbody tr th {\n",
              "        vertical-align: top;\n",
              "    }\n",
              "\n",
              "    .dataframe thead th {\n",
              "        text-align: right;\n",
              "    }\n",
              "</style>\n",
              "<table border=\"1\" class=\"dataframe\">\n",
              "  <thead>\n",
              "    <tr style=\"text-align: right;\">\n",
              "      <th></th>\n",
              "      <th>0</th>\n",
              "    </tr>\n",
              "  </thead>\n",
              "  <tbody>\n",
              "    <tr>\n",
              "      <th>Linguagens</th>\n",
              "      <td>515.045250</td>\n",
              "    </tr>\n",
              "    <tr>\n",
              "      <th>Ciências humanas</th>\n",
              "      <td>524.519920</td>\n",
              "    </tr>\n",
              "    <tr>\n",
              "      <th>Ciências da natureza</th>\n",
              "      <td>500.479263</td>\n",
              "    </tr>\n",
              "    <tr>\n",
              "      <th>Matemática</th>\n",
              "      <td>533.247767</td>\n",
              "    </tr>\n",
              "    <tr>\n",
              "      <th>Redação</th>\n",
              "      <td>635.273973</td>\n",
              "    </tr>\n",
              "  </tbody>\n",
              "</table>\n",
              "</div><br><label><b>dtype:</b> float64</label>"
            ]
          },
          "metadata": {},
          "execution_count": 6
        }
      ]
    },
    {
      "cell_type": "code",
      "source": [
        "# 3. Considerando o curso de Ciência da Computação da UFPE, onde o peso cada uma das disciplinas ponderado:\n",
        "\n",
        "# Copiando o DataFrame\n",
        "df_UFPE = df.copy()\n",
        "\n",
        "# Tratando nulos antes de calcular a média ponderada\n",
        "df_UFPE.dropna(inplace = True)\n",
        "\n",
        "# Definindo os pesos de cada disciplina\n",
        "pesos = {'Redação': 2, 'Matemática': 4, 'Linguagens': 2, 'Ciências humanas': 1, 'Ciências da natureza': 1}\n",
        "\n",
        "# Calculando a média ponderada das disciplinas\n",
        "df_UFPE['Média Ponderada'] = (df_UFPE['Redação'] * pesos['Redação'] +\n",
        "                              df_UFPE['Matemática'] * pesos['Matemática'] +\n",
        "                              df_UFPE['Linguagens'] * pesos['Linguagens'] +\n",
        "                              df_UFPE['Ciências humanas'] * pesos['Ciências humanas'] +\n",
        "                              df_UFPE['Ciências da natureza'] * pesos['Ciências da natureza']) / sum(pesos.values())\n",
        "\n",
        "# Encontrando os 500 estudantes mais bem colocados\n",
        "melhores_candidatos = df_UFPE.nlargest(500, 'Média Ponderada')\n",
        "\n",
        "# Calculando a média das notas dos melhores candidatos\n",
        "media_melhores_candidatos = melhores_candidatos['Média Ponderada'].mean()\n",
        "\n",
        "# Calculando o desvio padrão das notas dos melhores candidatos\n",
        "desvio_padrao_melhores_candidatos = melhores_candidatos['Média Ponderada'].std()\n",
        "\n",
        "# Resposta\n",
        "print(f'A média das notas dos 500 melhores candidatos é: {media_melhores_candidatos :.3f}')\n",
        "print(f'O desvio padrão das notas dos 500 melhores candidatos: {desvio_padrao_melhores_candidatos :.3f}')\n"
      ],
      "metadata": {
        "colab": {
          "base_uri": "https://localhost:8080/"
        },
        "id": "1jeAFc93_wsx",
        "outputId": "27a134dc-50ea-4b7f-8d7d-b76c5ea90061"
      },
      "execution_count": null,
      "outputs": [
        {
          "output_type": "stream",
          "name": "stdout",
          "text": [
            "A média das notas dos 500 melhores candidatos é: 557.290\n",
            "O desvio padrão das notas dos 500 melhores candidatos: 40.436\n"
          ]
        }
      ]
    },
    {
      "cell_type": "code",
      "source": [
        "# 4. Variância e média das notas dos estudantes que entraram no curso de Ciência da Computação\n",
        "# Selecionando os 40 candidatos que passaram\n",
        "candidatos_aprovados = melhores_candidatos.head(40)\n",
        "\n",
        "# Calculando a média das notas desses 40 candidatos\n",
        "media_candidatos_aprovados = candidatos_aprovados['Média Ponderada'].mean()\n",
        "\n",
        "# Calculando a variância das notas desses 40 candidatos\n",
        "variancia_candidatos_aprovados = candidatos_aprovados['Média Ponderada'].var()\n",
        "\n",
        "# Resposta\n",
        "print(f'A média das notas dos candidatos aprovados em Ciência da Computação: {media_candidatos_aprovados :.3f}.')\n",
        "print(f'A variância das notas dos candidatos aprovados em Ciência da Computação: {variancia_candidatos_aprovados :.3f}.')"
      ],
      "metadata": {
        "colab": {
          "base_uri": "https://localhost:8080/"
        },
        "id": "DepKGsdW__mv",
        "outputId": "da931fd3-e8a3-4ffd-84a7-f5c0fea6d7c5"
      },
      "execution_count": null,
      "outputs": [
        {
          "output_type": "stream",
          "name": "stdout",
          "text": [
            "Média das notas dos candidatos aprovados em Ciência da Computação: 636.683.\n",
            "Variância das notas dos candidatos aprovados em Ciência da Computação: 295.768.\n"
          ]
        }
      ]
    },
    {
      "cell_type": "code",
      "source": [
        "# 5.Qual o valor do teto do terceiro quartil para as disciplinas de matemática e linguagens?\n",
        "# Calculando o terceiro quartil para Matemática e Linguagens\n",
        "terceiro_quartil_matematica = df['Matemática'].quantile(q=0.75)\n",
        "terceiro_quartil_linguagens = df['Linguagens'].quantile(q=0.75)\n",
        "\n",
        "# Resposta\n",
        "print(\"O teto do terceiro quartil para Matemática é:\", np.ceil(terceiro_quartil_matematica))\n",
        "print(\"O teto do terceiro quartil para Linguagens é:\", np.ceil(terceiro_quartil_linguagens))\n"
      ],
      "metadata": {
        "colab": {
          "base_uri": "https://localhost:8080/"
        },
        "id": "L6Fu1FAan5Ns",
        "outputId": "14e33872-356e-4bc6-f5da-7d15ea82822a"
      },
      "execution_count": null,
      "outputs": [
        {
          "output_type": "stream",
          "name": "stdout",
          "text": [
            "Teto do terceiro quartil para Matemática: 593.0\n",
            "Teto do terceiro quartil para Linguagens: 572.0\n"
          ]
        }
      ]
    },
    {
      "cell_type": "code",
      "source": [
        "# 6. . Faça o histograma de Redação e Linguagens, de 20 em 20 pontos. Podemos dizer que são histogramas simétricos, justifique e classifiquese não assimétricas?\n",
        "# Criando um novo DataFrame com as colunas de Redação e Linguagens\n",
        "df_redacao_linguagens = df[[\"Redação\", \"Linguagens\"]]\n",
        "\n",
        "# Criando o histograma com as duas disciplinas juntas usando Seaborn\n",
        "sns.set_theme()\n",
        "plt.figure(figsize=(10, 5))\n",
        "sns.histplot(data=df_redacao_linguagens, binwidth=20, alpha=0.7, kde=True)\n",
        "\n",
        "# Adicionando rótulos e título ao gráfico\n",
        "plt.xlabel('Notas')\n",
        "plt.ylabel('Frequência')\n",
        "plt.title('Histograma das Disciplinas de Redação e Linguagens')\n",
        "\n",
        "# Exibindo o histograma\n",
        "plt.grid(True)\n",
        "plt.show()"
      ],
      "metadata": {
        "colab": {
          "base_uri": "https://localhost:8080/",
          "height": 496
        },
        "id": "uOmdf_OsoSWC",
        "outputId": "8fb32b13-1852-4712-f240-e88d109be537"
      },
      "execution_count": null,
      "outputs": [
        {
          "output_type": "display_data",
          "data": {
            "text/plain": [
              "<Figure size 1000x500 with 1 Axes>"
            ],
            "image/png": "[encoded data removed]"
          },
          "metadata": {}
        }
      ]
    },
    {
      "cell_type": "code",
      "source": [
        "# 7. Agora coloque um range fixo de 0 até 1000, você ainda tem a mesma opinião quanto a simetria? [plt.hist(dado, bins=_, range=[0, 1000])\n",
        "# Criando o histograma com as duas disciplinas juntas usando Seaborn\n",
        "sns.set_theme()\n",
        "plt.figure(figsize=(10, 5))\n",
        "sns.histplot(data=df_redacao_linguagens, binwidth=20, binrange=(0, 1000), alpha=0.7, kde=True)\n",
        "\n",
        "# Adicionando rótulos e título ao gráfico\n",
        "plt.xlabel('Notas')\n",
        "plt.ylabel('Frequência')\n",
        "plt.title('Histograma das Disciplinas de Redação e Linguagens')\n",
        "\n",
        "# Exibindo o histograma\n",
        "plt.grid(True)\n",
        "plt.show()"
      ],
      "metadata": {
        "id": "vuTGw2wx7Zhq"
      },
      "execution_count": null,
      "outputs": []
    },
    {
      "cell_type": "code",
      "source": [
        "# 8. Faça um boxplot do quartil de todas as disciplinas de ciências da natureza e redação. É possível enxergar outliers? Utilize o método IQR.\n",
        "# Tratamento para valores nulos das colunas Ciências da Natureza e Redação\n",
        "df_quartil = df[['Ciências da natureza', 'Redação']].dropna()\n",
        "\n",
        "# Calculando os quartis utilizando o método IQR\n",
        "quartis = df_quartil.quantile([0.25, 0.5, 0.75])\n",
        "\n",
        "# Criando o boxplot\n",
        "sns.set_theme()\n",
        "plt.figure(figsize=(10, 5))\n",
        "sns.boxplot(data=df_quartil, color = 'pink', showfliers=True)\n",
        "\n",
        "# Adicionando rótulos e título ao gráfico\n",
        "plt.xlabel('Disciplinas')\n",
        "plt.ylabel('Notas')\n",
        "plt.title('Boxplot das Disciplinas de Ciências da Natureza e Redação')\n",
        "\n",
        "# Adicionando valores às linhas dos quartis\n",
        "for I in range(len(quartis.columns)):\n",
        "    plt.text(I, quartis.iloc[0, I], f'Q1: {quartis.iloc[0, I]}', ha='center', va='bottom', fontsize=10, color='blue')\n",
        "    plt.text(I, quartis.iloc[1, I], f'Q2: {quartis.iloc[1, I]}', ha='center', va='bottom', fontsize=10, color='green')\n",
        "    plt.text(I, quartis.iloc[2, I], f'Q3: {quartis.iloc[2, I]}', ha='center', va='bottom', fontsize=10, color='red')\n",
        "\n",
        "# Exibindo o boxplot\n",
        "plt.grid(True)\n",
        "plt.show()"
      ],
      "metadata": {
        "colab": {
          "base_uri": "https://localhost:8080/",
          "height": 496
        },
        "id": "YAM2O52yAoUb",
        "outputId": "df56b3d8-8f94-4f3e-83e8-cccc5fc10149"
      },
      "execution_count": null,
      "outputs": [
        {
          "output_type": "display_data",
          "data": {
            "text/plain": [
              "<Figure size 1000x500 with 1 Axes>"
            ],
            "image/png": "[encoded data removed]"
          },
          "metadata": {}
        }
      ]
    },
    {
      "cell_type": "code",
      "source": [
        "# Método IQR\n",
        "def find_outlier_iqr(dataset, colname):\n",
        "  q25 = np.quantile(dataset[colname], 0.25)\n",
        "  q75 = np.quantile(dataset[colname], 0.75)\n",
        "\n",
        "  # Calcula  IQR\n",
        "  iqr = q75 - q25\n",
        "\n",
        "  # Calcula outlier cutoff\n",
        "  cut_off = iqr * 1.5\n",
        "\n",
        "  # Calcula margens inferiores (lower) e superiores (upper)\n",
        "  lower = q25 - cut_off\n",
        "  upper = q75 + cut_off\n",
        "\n",
        "  outliers = []\n",
        "\n",
        "  for I in dataset[colname].values:\n",
        "    if((I > upper) or (I < lower)):\n",
        "      outliers.append(I)\n",
        "\n",
        "  print(f\"Disciplina: {colname}.\")\n",
        "  print(f\"Número de outliers encontrado: {len(outliers) :.3f}.\")\n",
        "  print(f\"IQR: {iqr}. \\nValor mínimo: {lower :.3f}. \\nValor máximo: {upper :.3f}.\\n\")\n",
        "\n",
        "# Resposta\n",
        "for column in df_quartil:\n",
        "    find_outlier_iqr(df_quartil, column)"
      ],
      "metadata": {
        "colab": {
          "base_uri": "https://localhost:8080/"
        },
        "id": "LfP1ir0awwZP",
        "outputId": "4bfb173a-ad16-4629-c4ec-1e0bb00e0a93"
      },
      "execution_count": null,
      "outputs": [
        {
          "output_type": "stream",
          "name": "stdout",
          "text": [
            "Disciplina: Ciências da natureza.\n",
            "Número de outliers encontrado: 2.000.\n",
            "IQR: 105.71203439857504. \n",
            "Valor mínimo: 288.629. \n",
            "Valor máximo: 711.477.\n",
            "\n",
            "Disciplina: Redação.\n",
            "Número de outliers encontrado: 3.000.\n",
            "IQR: 155.0016325121751. \n",
            "Valor mínimo: 324.716. \n",
            "Valor máximo: 944.722.\n",
            "\n"
          ]
        }
      ]
    },
    {
      "cell_type": "code",
      "source": [
        "# 9.\n",
        "# Essa busca outliers e substitiu seu valor para NaN\n",
        "def replace_na_outlier_zscore(dataset, threshold, colname):\n",
        "  df = dataset[colname]\n",
        "  outliers = []\n",
        "  zscore = []\n",
        "  val = []\n",
        "  threshold = threshold\n",
        "  mean = np.mean(df)\n",
        "  std = np.std(df)\n",
        "\n",
        "  for I in df.values:\n",
        "    z_score = (I - mean) / std\n",
        "    zscore.append(z_score)\n",
        "\n",
        "    if np.abs(z_score) > threshold:\n",
        "      outliers.append(I)\n",
        "      val.append(np.nan)\n",
        "    else:\n",
        "      val.append(I)\n",
        "\n",
        "  return val\n",
        "\n",
        "# Essa função remove os outliers removendo todos os valores nulos\n",
        "def drop_outliers(dataset, threshold):\n",
        "  for column in dataset.select_dtypes(include=np.number).columns:\n",
        "    dataset[column] =  replace_na_outlier_zscore(dataset, 3, column)\n",
        "  return dataset.dropna()\n",
        "\n",
        "# Essa função valida se existe alteração significativa\n",
        "def validar_diferenca(diferenca_percentual):\n",
        "  if diferenca_percentual < 5:\n",
        "    return \"Não. A remoção dos outliers não resultou em alterações significativas na média nacional\"\n",
        "  else:\n",
        "    return \"Sim. A remoção dos outliers resultou em alterações significativas na média nacional\"\n",
        "\n",
        "# Criando um DataFrame sem outliers\n",
        "df_original = df.copy()\n",
        "df_sem_outliers = drop_outliers(df_original, 3)\n",
        "\n",
        "# Calculando a média nacional\n",
        "media_nacional_original = df.mean(numeric_only=True).mean()\n",
        "media_nacional_sem_outliers = df_sem_outliers.mean(numeric_only=True).mean()\n",
        "\n",
        "# Calculando diferença percentual\n",
        "diferenca_percentual = ((media_nacional_sem_outliers - media_nacional_original) / media_nacional_original) * 100\n",
        "\n",
        "# Resposta\n",
        "print(f'A média nacional antes de remover outliers é: {media_nacional_original :.3f}.')\n",
        "print(f'A média nacional após remover outliers é: {media_nacional_sem_outliers :.3f}.')\n",
        "print(f'A diferença percentual entre as médias é: {diferenca_percentual :.3f}.')\n",
        "print(f'Podemos concluir que: {validar_diferenca(diferenca_percentual)}.')"
      ],
      "metadata": {
        "colab": {
          "base_uri": "https://localhost:8080/"
        },
        "id": "gJb1Cb-oRtsY",
        "outputId": "9808cda2-da0d-4f2d-d96b-ae33782afc18"
      },
      "execution_count": null,
      "outputs": [
        {
          "output_type": "stream",
          "name": "stdout",
          "text": [
            "A média nacional antes de remover outliers é: 542.926.\n",
            "A média nacional após remover outliers é: 544.660.\n",
            "A diferença percentual entre as médias é: 0.319.\n",
            "Podemos concluir que: Não. A remoção dos outliers não resultou em alterações significativas na média nacional.\n"
          ]
        }
      ]
    },
    {
      "cell_type": "code",
      "source": [
        "# 10 . Considerando valores nulos, tente encontrar qual seria a melhor medida de tendência que pode substituir as notas nulas. Média, moda ou\n",
        "# Dataframe original com valores nulos\n",
        "df_original = df.select_dtypes(include=np.number)\n",
        "\n",
        "# Substituindo valores nulos de cada coluna pela média\n",
        "df_media = df_original.copy()\n",
        "for coluna in colunas_numericas:\n",
        "    media_coluna = df_original[coluna].mean()\n",
        "    df_media[coluna].fillna(media_coluna, inplace=True)\n",
        "\n",
        "# Substituindo valores nulos de cada coluna pela moda\n",
        "df_moda = df_original.copy()\n",
        "for coluna in colunas_numericas:\n",
        "    moda_coluna = df_original[coluna].mode()[0]\n",
        "    df_moda[coluna].fillna(moda_coluna, inplace=True)\n",
        "\n",
        "df_mediana = df_original.copy()\n",
        "for coluna in colunas_numericas:\n",
        "    mediana_coluna = df_original[coluna].median()\n",
        "    df_mediana[coluna].fillna(mediana_coluna, inplace=True)\n",
        "\n"
      ],
      "metadata": {
        "colab": {
          "base_uri": "https://localhost:8080/",
          "height": 219
        },
        "id": "9a6WRW5zWRtk",
        "outputId": "42c108cb-7c7a-44f9-8d44-812a8f3c1c02"
      },
      "execution_count": null,
      "outputs": [
        {
          "output_type": "error",
          "ename": "NameError",
          "evalue": "name 'colunas_numericas' is not defined",
          "traceback": [
            "\u001b[0;31m---------------------------------------------------------------------------\u001b[0m",
            "\u001b[0;31mNameError\u001b[0m                                 Traceback (most recent call last)",
            "\u001b[0;32m<ipython-input-27-eafe67959984>\u001b[0m in \u001b[0;36m<cell line: 7>\u001b[0;34m()\u001b[0m\n\u001b[1;32m      5\u001b[0m \u001b[0;31m# Substituindo valores nulos de cada coluna pela média\u001b[0m\u001b[0;34m\u001b[0m\u001b[0;34m\u001b[0m\u001b[0m\n\u001b[1;32m      6\u001b[0m \u001b[0mdf_media\u001b[0m \u001b[0;34m=\u001b[0m \u001b[0mdf_original\u001b[0m\u001b[0;34m.\u001b[0m\u001b[0mcopy\u001b[0m\u001b[0;34m(\u001b[0m\u001b[0;34m)\u001b[0m\u001b[0;34m\u001b[0m\u001b[0;34m\u001b[0m\u001b[0m\n\u001b[0;32m----> 7\u001b[0;31m \u001b[0;32mfor\u001b[0m \u001b[0mcoluna\u001b[0m \u001b[0;32min\u001b[0m \u001b[0mcolunas_numericas\u001b[0m\u001b[0;34m:\u001b[0m\u001b[0;34m\u001b[0m\u001b[0;34m\u001b[0m\u001b[0m\n\u001b[0m\u001b[1;32m      8\u001b[0m     \u001b[0mmedia_coluna\u001b[0m \u001b[0;34m=\u001b[0m \u001b[0mdf_original\u001b[0m\u001b[0;34m[\u001b[0m\u001b[0mcoluna\u001b[0m\u001b[0;34m]\u001b[0m\u001b[0;34m.\u001b[0m\u001b[0mmean\u001b[0m\u001b[0;34m(\u001b[0m\u001b[0;34m)\u001b[0m\u001b[0;34m\u001b[0m\u001b[0;34m\u001b[0m\u001b[0m\n\u001b[1;32m      9\u001b[0m     \u001b[0mdf_media\u001b[0m\u001b[0;34m[\u001b[0m\u001b[0mcoluna\u001b[0m\u001b[0;34m]\u001b[0m\u001b[0;34m.\u001b[0m\u001b[0mfillna\u001b[0m\u001b[0;34m(\u001b[0m\u001b[0mmedia_coluna\u001b[0m\u001b[0;34m,\u001b[0m \u001b[0minplace\u001b[0m\u001b[0;34m=\u001b[0m\u001b[0;32mTrue\u001b[0m\u001b[0;34m)\u001b[0m\u001b[0;34m\u001b[0m\u001b[0;34m\u001b[0m\u001b[0m\n",
            "\u001b[0;31mNameError\u001b[0m: name 'colunas_numericas' is not defined"
          ]
        }
      ]
    }
  ]
}